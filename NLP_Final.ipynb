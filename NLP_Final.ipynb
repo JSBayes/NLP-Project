{
 "cells": [
  {
   "cell_type": "markdown",
   "metadata": {},
   "source": [
    "# Goals\n",
    "\n",
    " 1) Construct a web scraper capable of gathering data from github repositories. Data collected should include the main programing language used in that repository, and the contents of that repository’s readme file.\n",
    "\n",
    " 2) Use natural language processing to develop a model to predict each repositories programming language based on the contents of that repository’s readme file."
   ]
  },
  {
   "cell_type": "markdown",
   "metadata": {},
   "source": [
    "# Imports"
   ]
  },
  {
   "cell_type": "code",
   "execution_count": 41,
   "metadata": {},
   "outputs": [],
   "source": [
    "import re\n",
    "import unicodedata\n",
    "import pandas as pd\n",
    "import nltk\n",
    "\n",
    "from sklearn.model_selection import train_test_split, StratifiedShuffleSplit\n",
    "from sklearn.feature_extraction.text import TfidfVectorizer\n",
    "from sklearn.ensemble import RandomForestClassifier\n",
    "from sklearn.tree import DecisionTreeClassifier\n",
    "from prepare import prep_readme\n",
    "\n",
    "import warnings\n",
    "warnings.filterwarnings(\"ignore\")\n",
    "\n",
    "%matplotlib inline\n",
    "import matplotlib.pyplot as plt\n",
    "import seaborn as sns\n",
    "\n",
    "#import acquire as a # produces output sometimes\n",
    "import prepare as p\n",
    "import explore as e"
   ]
  },
  {
   "cell_type": "markdown",
   "metadata": {},
   "source": [
    "# Acqusition"
   ]
  },
  {
   "cell_type": "code",
   "execution_count": 2,
   "metadata": {},
   "outputs": [],
   "source": [
    "# Calles functions in acquire.py to scrape git hub repositories and create a dictionary containing the repo url,\n",
    "# language, and readme contents of each folder."
   ]
  },
  {
   "cell_type": "markdown",
   "metadata": {},
   "source": [
    "# Preperation"
   ]
  },
  {
   "cell_type": "code",
   "execution_count": 3,
   "metadata": {},
   "outputs": [],
   "source": [
    "# Calls functions in prepare.py. Functions convert the dictionaries in the json file into a data frame. \n",
    "# Then add two columns to the data frame, applying basic cleaning algorithms to the readme contents. \n",
    "# Stemming is then applied to one of those columns. Lemmatize is applied to the other.\n",
    "# Functions also drop rows that did not produce usable data\n",
    "df = p.prep_readme()"
   ]
  },
  {
   "cell_type": "markdown",
   "metadata": {},
   "source": [
    "# Exploration"
   ]
  },
  {
   "cell_type": "code",
   "execution_count": 4,
   "metadata": {},
   "outputs": [
    {
     "data": {
      "text/html": [
       "<div>\n",
       "<style scoped>\n",
       "    .dataframe tbody tr th:only-of-type {\n",
       "        vertical-align: middle;\n",
       "    }\n",
       "\n",
       "    .dataframe tbody tr th {\n",
       "        vertical-align: top;\n",
       "    }\n",
       "\n",
       "    .dataframe thead th {\n",
       "        text-align: right;\n",
       "    }\n",
       "</style>\n",
       "<table border=\"1\" class=\"dataframe\">\n",
       "  <thead>\n",
       "    <tr style=\"text-align: right;\">\n",
       "      <th></th>\n",
       "      <th>repo</th>\n",
       "      <th>language</th>\n",
       "      <th>readme_contents</th>\n",
       "      <th>readme_contents_stemmed</th>\n",
       "      <th>readme_contents_lemmatized</th>\n",
       "    </tr>\n",
       "  </thead>\n",
       "  <tbody>\n",
       "    <tr>\n",
       "      <td>0</td>\n",
       "      <td>/nakov/Practical-Cryptography-for-Developers-Book</td>\n",
       "      <td>CSS</td>\n",
       "      <td># Welcome\\n\\n&gt; **Warning**: this book is **not...</td>\n",
       "      <td>welcom warn book finish still work chapter com...</td>\n",
       "      <td>welcome warning book finished still working ch...</td>\n",
       "    </tr>\n",
       "    <tr>\n",
       "      <td>1</td>\n",
       "      <td>/eclipse/deeplearning4j</td>\n",
       "      <td>Java</td>\n",
       "      <td># Monorepo of Deeplearning4j\\n\\nWelcome to the...</td>\n",
       "      <td>monorepo deeplearn j welcom new monorepo deepl...</td>\n",
       "      <td>monorepo deeplearning j welcome new monorepo d...</td>\n",
       "    </tr>\n",
       "    <tr>\n",
       "      <td>2</td>\n",
       "      <td>/h2oai/h2o-3</td>\n",
       "      <td>Java</td>\n",
       "      <td># H2O\\n\\n[![Join the chat at https://gitter.im...</td>\n",
       "      <td>h join chat http gitter im h oai h http badg g...</td>\n",
       "      <td>h join chat http gitter im h oai h http badge ...</td>\n",
       "    </tr>\n",
       "    <tr>\n",
       "      <td>3</td>\n",
       "      <td>/tensorflow/tensorflow</td>\n",
       "      <td>C++</td>\n",
       "      <td>&lt;div align=\"center\"&gt;\\n  &lt;img src=\"https://www....</td>\n",
       "      <td>div align center img src http www tensorflow o...</td>\n",
       "      <td>div align center img src http www tensorflow o...</td>\n",
       "    </tr>\n",
       "    <tr>\n",
       "      <td>4</td>\n",
       "      <td>/grpc/grpc</td>\n",
       "      <td>C++</td>\n",
       "      <td>gRPC - An RPC library and framework\\n=========...</td>\n",
       "      <td>grpc rpc librari framework grpc modern open so...</td>\n",
       "      <td>grpc rpc library framework grpc modern open so...</td>\n",
       "    </tr>\n",
       "  </tbody>\n",
       "</table>\n",
       "</div>"
      ],
      "text/plain": [
       "                                                repo language  \\\n",
       "0  /nakov/Practical-Cryptography-for-Developers-Book      CSS   \n",
       "1                            /eclipse/deeplearning4j     Java   \n",
       "2                                       /h2oai/h2o-3     Java   \n",
       "3                             /tensorflow/tensorflow      C++   \n",
       "4                                         /grpc/grpc      C++   \n",
       "\n",
       "                                     readme_contents  \\\n",
       "0  # Welcome\\n\\n> **Warning**: this book is **not...   \n",
       "1  # Monorepo of Deeplearning4j\\n\\nWelcome to the...   \n",
       "2  # H2O\\n\\n[![Join the chat at https://gitter.im...   \n",
       "3  <div align=\"center\">\\n  <img src=\"https://www....   \n",
       "4  gRPC - An RPC library and framework\\n=========...   \n",
       "\n",
       "                             readme_contents_stemmed  \\\n",
       "0  welcom warn book finish still work chapter com...   \n",
       "1  monorepo deeplearn j welcom new monorepo deepl...   \n",
       "2  h join chat http gitter im h oai h http badg g...   \n",
       "3  div align center img src http www tensorflow o...   \n",
       "4  grpc rpc librari framework grpc modern open so...   \n",
       "\n",
       "                          readme_contents_lemmatized  \n",
       "0  welcome warning book finished still working ch...  \n",
       "1  monorepo deeplearning j welcome new monorepo d...  \n",
       "2  h join chat http gitter im h oai h http badge ...  \n",
       "3  div align center img src http www tensorflow o...  \n",
       "4  grpc rpc library framework grpc modern open so...  "
      ]
     },
     "execution_count": 4,
     "metadata": {},
     "output_type": "execute_result"
    }
   ],
   "source": [
    "# First peek at prepared data.\n",
    "df.head()"
   ]
  },
  {
   "cell_type": "code",
   "execution_count": 5,
   "metadata": {},
   "outputs": [],
   "source": [
    "# dropping repo column. The goal is to predict language using readme contents so repo it is not useful\n",
    "df.drop(columns='repo',inplace=True)"
   ]
  },
  {
   "cell_type": "code",
   "execution_count": 6,
   "metadata": {},
   "outputs": [],
   "source": [
    "# dropping readme_contents. The column was there for comparison to insure prepre functions worked as expected.\n",
    "# It is no longer needed.\n",
    "df.drop(columns='readme_contents',inplace=True)"
   ]
  },
  {
   "cell_type": "code",
   "execution_count": 7,
   "metadata": {},
   "outputs": [
    {
     "data": {
      "text/html": [
       "<div>\n",
       "<style scoped>\n",
       "    .dataframe tbody tr th:only-of-type {\n",
       "        vertical-align: middle;\n",
       "    }\n",
       "\n",
       "    .dataframe tbody tr th {\n",
       "        vertical-align: top;\n",
       "    }\n",
       "\n",
       "    .dataframe thead th {\n",
       "        text-align: right;\n",
       "    }\n",
       "</style>\n",
       "<table border=\"1\" class=\"dataframe\">\n",
       "  <thead>\n",
       "    <tr style=\"text-align: right;\">\n",
       "      <th></th>\n",
       "      <th>language</th>\n",
       "      <th>readme_contents_stemmed</th>\n",
       "      <th>readme_contents_lemmatized</th>\n",
       "    </tr>\n",
       "  </thead>\n",
       "  <tbody>\n",
       "    <tr>\n",
       "      <td>0</td>\n",
       "      <td>CSS</td>\n",
       "      <td>welcom warn book finish still work chapter com...</td>\n",
       "      <td>welcome warning book finished still working ch...</td>\n",
       "    </tr>\n",
       "    <tr>\n",
       "      <td>1</td>\n",
       "      <td>Java</td>\n",
       "      <td>monorepo deeplearn j welcom new monorepo deepl...</td>\n",
       "      <td>monorepo deeplearning j welcome new monorepo d...</td>\n",
       "    </tr>\n",
       "    <tr>\n",
       "      <td>2</td>\n",
       "      <td>Java</td>\n",
       "      <td>h join chat http gitter im h oai h http badg g...</td>\n",
       "      <td>h join chat http gitter im h oai h http badge ...</td>\n",
       "    </tr>\n",
       "    <tr>\n",
       "      <td>3</td>\n",
       "      <td>C++</td>\n",
       "      <td>div align center img src http www tensorflow o...</td>\n",
       "      <td>div align center img src http www tensorflow o...</td>\n",
       "    </tr>\n",
       "    <tr>\n",
       "      <td>4</td>\n",
       "      <td>C++</td>\n",
       "      <td>grpc rpc librari framework grpc modern open so...</td>\n",
       "      <td>grpc rpc library framework grpc modern open so...</td>\n",
       "    </tr>\n",
       "  </tbody>\n",
       "</table>\n",
       "</div>"
      ],
      "text/plain": [
       "  language                            readme_contents_stemmed  \\\n",
       "0      CSS  welcom warn book finish still work chapter com...   \n",
       "1     Java  monorepo deeplearn j welcom new monorepo deepl...   \n",
       "2     Java  h join chat http gitter im h oai h http badg g...   \n",
       "3      C++  div align center img src http www tensorflow o...   \n",
       "4      C++  grpc rpc librari framework grpc modern open so...   \n",
       "\n",
       "                          readme_contents_lemmatized  \n",
       "0  welcome warning book finished still working ch...  \n",
       "1  monorepo deeplearning j welcome new monorepo d...  \n",
       "2  h join chat http gitter im h oai h http badge ...  \n",
       "3  div align center img src http www tensorflow o...  \n",
       "4  grpc rpc library framework grpc modern open so...  "
      ]
     },
     "execution_count": 7,
     "metadata": {},
     "output_type": "execute_result"
    }
   ],
   "source": [
    "df.head()"
   ]
  },
  {
   "cell_type": "markdown",
   "metadata": {},
   "source": [
    "### Data Dictionary\n",
    "\n",
    "1) language - main programing language used by the repository\n",
    "\n",
    "2) readme_contents_stemmed - contents of readme file cleaned and stemed\n",
    "\n",
    "3) readme_contents_lemmatized - contents of readme file cleaned and lemmatized"
   ]
  },
  {
   "cell_type": "markdown",
   "metadata": {},
   "source": [
    "#### looking at initial data statistics"
   ]
  },
  {
   "cell_type": "code",
   "execution_count": 8,
   "metadata": {},
   "outputs": [
    {
     "data": {
      "text/plain": [
       "(311, 3)"
      ]
     },
     "execution_count": 8,
     "metadata": {},
     "output_type": "execute_result"
    }
   ],
   "source": [
    "df.shape"
   ]
  },
  {
   "cell_type": "code",
   "execution_count": 9,
   "metadata": {},
   "outputs": [
    {
     "data": {
      "text/html": [
       "<div>\n",
       "<style scoped>\n",
       "    .dataframe tbody tr th:only-of-type {\n",
       "        vertical-align: middle;\n",
       "    }\n",
       "\n",
       "    .dataframe tbody tr th {\n",
       "        vertical-align: top;\n",
       "    }\n",
       "\n",
       "    .dataframe thead th {\n",
       "        text-align: right;\n",
       "    }\n",
       "</style>\n",
       "<table border=\"1\" class=\"dataframe\">\n",
       "  <thead>\n",
       "    <tr style=\"text-align: right;\">\n",
       "      <th></th>\n",
       "      <th>number</th>\n",
       "      <th>percent</th>\n",
       "    </tr>\n",
       "  </thead>\n",
       "  <tbody>\n",
       "    <tr>\n",
       "      <td>HTML</td>\n",
       "      <td>60</td>\n",
       "      <td>0.192926</td>\n",
       "    </tr>\n",
       "    <tr>\n",
       "      <td>C++</td>\n",
       "      <td>59</td>\n",
       "      <td>0.189711</td>\n",
       "    </tr>\n",
       "    <tr>\n",
       "      <td>C</td>\n",
       "      <td>44</td>\n",
       "      <td>0.141479</td>\n",
       "    </tr>\n",
       "    <tr>\n",
       "      <td>JavaScript</td>\n",
       "      <td>38</td>\n",
       "      <td>0.122186</td>\n",
       "    </tr>\n",
       "    <tr>\n",
       "      <td>Java</td>\n",
       "      <td>37</td>\n",
       "      <td>0.118971</td>\n",
       "    </tr>\n",
       "    <tr>\n",
       "      <td>Python</td>\n",
       "      <td>36</td>\n",
       "      <td>0.115756</td>\n",
       "    </tr>\n",
       "    <tr>\n",
       "      <td>CSS</td>\n",
       "      <td>21</td>\n",
       "      <td>0.067524</td>\n",
       "    </tr>\n",
       "    <tr>\n",
       "      <td>Shell</td>\n",
       "      <td>16</td>\n",
       "      <td>0.051447</td>\n",
       "    </tr>\n",
       "  </tbody>\n",
       "</table>\n",
       "</div>"
      ],
      "text/plain": [
       "            number   percent\n",
       "HTML            60  0.192926\n",
       "C++             59  0.189711\n",
       "C               44  0.141479\n",
       "JavaScript      38  0.122186\n",
       "Java            37  0.118971\n",
       "Python          36  0.115756\n",
       "CSS             21  0.067524\n",
       "Shell           16  0.051447"
      ]
     },
     "execution_count": 9,
     "metadata": {},
     "output_type": "execute_result"
    }
   ],
   "source": [
    "# shows the number and percent of repositories that represent each language\n",
    "labels = pd.concat([df.language.value_counts(),\n",
    "                    df.language.value_counts(normalize=True)], axis=1)\n",
    "labels.columns = ['number', 'percent']\n",
    "labels"
   ]
  },
  {
   "cell_type": "code",
   "execution_count": 10,
   "metadata": {},
   "outputs": [],
   "source": [
    "# gets a list of words tied to each language\n",
    "CPP_words = e.word_soup(' '.join(df[df.language == 'C++'].readme_contents_lemmatized))\n",
    "HTML_words = e.word_soup(' '.join(df[df.language == 'HTML'].readme_contents_lemmatized))\n",
    "Python_words = e.word_soup(' '.join(df[df.language == 'Python'].readme_contents_lemmatized))\n",
    "CSS_words = e.word_soup(' '.join(df[df.language == 'CSS'].readme_contents_lemmatized))\n",
    "C_words = e.word_soup(' '.join(df[df.language == 'C'].readme_contents_lemmatized))\n",
    "Java_words = e.word_soup(' '.join(df[df.language == 'Java'].readme_contents_lemmatized))\n",
    "JavaScript_words = e.word_soup(' '.join(df[df.language == 'JavaScript'].readme_contents_lemmatized))\n",
    "Shell_words = e.word_soup(' '.join(df[df.language == 'Shell'].readme_contents_lemmatized))\n",
    "all_words = e.word_soup(' '.join(df.readme_contents_lemmatized))"
   ]
  },
  {
   "cell_type": "code",
   "execution_count": 11,
   "metadata": {},
   "outputs": [],
   "source": [
    "# gets frequency of each word tied to each language\n",
    "CPP_freq = pd.Series(CPP_words).value_counts()\n",
    "HTML_freq = pd.Series(HTML_words).value_counts()\n",
    "Python_freq = pd.Series(Python_words).value_counts()\n",
    "CSS_freq = pd.Series(CSS_words).value_counts()\n",
    "C_freq = pd.Series(C_words).value_counts()\n",
    "Java_freq = pd.Series(Java_words).value_counts()\n",
    "JavaScript_freq = pd.Series(JavaScript_words).value_counts()\n",
    "Shell_freq = pd.Series(Shell_words).value_counts()\n",
    "all_freq = pd.Series(all_words).value_counts()"
   ]
  },
  {
   "cell_type": "code",
   "execution_count": 12,
   "metadata": {},
   "outputs": [],
   "source": [
    "top_20_words = (pd.Series(all_words)\n",
    "                      .value_counts()\n",
    "                      .head(20))"
   ]
  },
  {
   "cell_type": "code",
   "execution_count": 13,
   "metadata": {},
   "outputs": [
    {
     "data": {
      "text/plain": [
       "Text(0.5, 0, '# Occurances')"
      ]
     },
     "execution_count": 13,
     "metadata": {},
     "output_type": "execute_result"
    },
    {
     "data": {
      "image/png": "[encoded data removed]",
      "text/plain": [
       "<Figure size 720x432 with 1 Axes>"
      ]
     },
     "metadata": {
      "needs_background": "light"
     },
     "output_type": "display_data"
    }
   ],
   "source": [
    "top_20_words.sort_values().plot.barh(color='lightblue', width=.9, figsize=(10, 6))\n",
    "\n",
    "plt.title('20 Most frequently occuring words')\n",
    "plt.ylabel('Words')\n",
    "plt.xlabel('# Occurances')"
   ]
  },
  {
   "cell_type": "code",
   "execution_count": 16,
   "metadata": {},
   "outputs": [
    {
     "data": {
      "text/plain": [
       "Text(0.5, 0, '# Occurances')"
      ]
     },
     "execution_count": 16,
     "metadata": {},
     "output_type": "execute_result"
    },
    {
     "data": {
      "image/png": "[encoded data removed]",
      "text/plain": [
       "<Figure size 720x432 with 1 Axes>"
      ]
     },
     "metadata": {
      "needs_background": "light"
     },
     "output_type": "display_data"
    }
   ],
   "source": [
    "top_20_words.sort_values().plot.barh(color='lightblue', width=.9, figsize=(10, 6))\n",
    "\n",
    "plt.title('20 Most frequently occuring bigrams')\n",
    "plt.ylabel('Bigram')\n",
    "plt.xlabel('# Occurances')\n"
   ]
  },
  {
   "cell_type": "code",
   "execution_count": 17,
   "metadata": {},
   "outputs": [],
   "source": [
    "# creates a data frame that shows the frequency of each word across each language\n",
    "word_counts = (pd.concat([all_freq,CPP_freq,HTML_freq,Python_freq,CSS_freq,C_freq,Java_freq,JavaScript_freq,Shell_freq], axis=1, sort=True)\n",
    "                .set_axis(['all', 'C++', 'HTML', 'Python', 'CSS', 'C', 'Java', 'JavaScript', 'Shell'], axis=1, inplace=False)\n",
    "                .fillna(0)\n",
    "                .apply(lambda s: s.astype(int)))"
   ]
  },
  {
   "cell_type": "code",
   "execution_count": 18,
   "metadata": {},
   "outputs": [
    {
     "data": {
      "text/html": [
       "<div>\n",
       "<style scoped>\n",
       "    .dataframe tbody tr th:only-of-type {\n",
       "        vertical-align: middle;\n",
       "    }\n",
       "\n",
       "    .dataframe tbody tr th {\n",
       "        vertical-align: top;\n",
       "    }\n",
       "\n",
       "    .dataframe thead th {\n",
       "        text-align: right;\n",
       "    }\n",
       "</style>\n",
       "<table border=\"1\" class=\"dataframe\">\n",
       "  <thead>\n",
       "    <tr style=\"text-align: right;\">\n",
       "      <th></th>\n",
       "      <th>all</th>\n",
       "      <th>C++</th>\n",
       "      <th>HTML</th>\n",
       "      <th>Python</th>\n",
       "      <th>CSS</th>\n",
       "      <th>C</th>\n",
       "      <th>Java</th>\n",
       "      <th>JavaScript</th>\n",
       "      <th>Shell</th>\n",
       "    </tr>\n",
       "  </thead>\n",
       "  <tbody>\n",
       "    <tr>\n",
       "      <td>aaaaaelftksuqmcc</td>\n",
       "      <td>1</td>\n",
       "      <td>1</td>\n",
       "      <td>0</td>\n",
       "      <td>0</td>\n",
       "      <td>0</td>\n",
       "      <td>0</td>\n",
       "      <td>0</td>\n",
       "      <td>0</td>\n",
       "      <td>0</td>\n",
       "    </tr>\n",
       "    <tr>\n",
       "      <td>aaaaaxrstlmaqobyzgaaaafis</td>\n",
       "      <td>1</td>\n",
       "      <td>1</td>\n",
       "      <td>0</td>\n",
       "      <td>0</td>\n",
       "      <td>0</td>\n",
       "      <td>0</td>\n",
       "      <td>0</td>\n",
       "      <td>0</td>\n",
       "      <td>0</td>\n",
       "    </tr>\n",
       "    <tr>\n",
       "      <td>aaaaikleqvqi</td>\n",
       "      <td>1</td>\n",
       "      <td>1</td>\n",
       "      <td>0</td>\n",
       "      <td>0</td>\n",
       "      <td>0</td>\n",
       "      <td>0</td>\n",
       "      <td>0</td>\n",
       "      <td>0</td>\n",
       "      <td>0</td>\n",
       "    </tr>\n",
       "    <tr>\n",
       "      <td>aaaaocamaaaaolt</td>\n",
       "      <td>1</td>\n",
       "      <td>1</td>\n",
       "      <td>0</td>\n",
       "      <td>0</td>\n",
       "      <td>0</td>\n",
       "      <td>0</td>\n",
       "      <td>0</td>\n",
       "      <td>0</td>\n",
       "      <td>0</td>\n",
       "    </tr>\n",
       "    <tr>\n",
       "      <td>aaad</td>\n",
       "      <td>1</td>\n",
       "      <td>0</td>\n",
       "      <td>0</td>\n",
       "      <td>0</td>\n",
       "      <td>0</td>\n",
       "      <td>1</td>\n",
       "      <td>0</td>\n",
       "      <td>0</td>\n",
       "      <td>0</td>\n",
       "    </tr>\n",
       "  </tbody>\n",
       "</table>\n",
       "</div>"
      ],
      "text/plain": [
       "                           all  C++  HTML  Python  CSS  C  Java  JavaScript  \\\n",
       "aaaaaelftksuqmcc             1    1     0       0    0  0     0           0   \n",
       "aaaaaxrstlmaqobyzgaaaafis    1    1     0       0    0  0     0           0   \n",
       "aaaaikleqvqi                 1    1     0       0    0  0     0           0   \n",
       "aaaaocamaaaaolt              1    1     0       0    0  0     0           0   \n",
       "aaad                         1    0     0       0    0  1     0           0   \n",
       "\n",
       "                           Shell  \n",
       "aaaaaelftksuqmcc               0  \n",
       "aaaaaxrstlmaqobyzgaaaafis      0  \n",
       "aaaaikleqvqi                   0  \n",
       "aaaaocamaaaaolt                0  \n",
       "aaad                           0  "
      ]
     },
     "execution_count": 18,
     "metadata": {},
     "output_type": "execute_result"
    }
   ],
   "source": [
    "word_counts.head()"
   ]
  },
  {
   "cell_type": "code",
   "execution_count": 19,
   "metadata": {},
   "outputs": [
    {
     "data": {
      "text/html": [
       "<div>\n",
       "<style scoped>\n",
       "    .dataframe tbody tr th:only-of-type {\n",
       "        vertical-align: middle;\n",
       "    }\n",
       "\n",
       "    .dataframe tbody tr th {\n",
       "        vertical-align: top;\n",
       "    }\n",
       "\n",
       "    .dataframe thead th {\n",
       "        text-align: right;\n",
       "    }\n",
       "</style>\n",
       "<table border=\"1\" class=\"dataframe\">\n",
       "  <thead>\n",
       "    <tr style=\"text-align: right;\">\n",
       "      <th></th>\n",
       "      <th>all</th>\n",
       "      <th>C++</th>\n",
       "      <th>HTML</th>\n",
       "      <th>Python</th>\n",
       "      <th>CSS</th>\n",
       "      <th>C</th>\n",
       "      <th>Java</th>\n",
       "      <th>JavaScript</th>\n",
       "      <th>Shell</th>\n",
       "    </tr>\n",
       "  </thead>\n",
       "  <tbody>\n",
       "    <tr>\n",
       "      <td>http</td>\n",
       "      <td>8000</td>\n",
       "      <td>1121</td>\n",
       "      <td>960</td>\n",
       "      <td>2455</td>\n",
       "      <td>338</td>\n",
       "      <td>465</td>\n",
       "      <td>718</td>\n",
       "      <td>1385</td>\n",
       "      <td>558</td>\n",
       "    </tr>\n",
       "    <tr>\n",
       "      <td>com</td>\n",
       "      <td>5160</td>\n",
       "      <td>652</td>\n",
       "      <td>534</td>\n",
       "      <td>1660</td>\n",
       "      <td>257</td>\n",
       "      <td>237</td>\n",
       "      <td>474</td>\n",
       "      <td>947</td>\n",
       "      <td>399</td>\n",
       "    </tr>\n",
       "    <tr>\n",
       "      <td>github</td>\n",
       "      <td>2791</td>\n",
       "      <td>359</td>\n",
       "      <td>275</td>\n",
       "      <td>924</td>\n",
       "      <td>183</td>\n",
       "      <td>164</td>\n",
       "      <td>331</td>\n",
       "      <td>303</td>\n",
       "      <td>252</td>\n",
       "    </tr>\n",
       "    <tr>\n",
       "      <td>python</td>\n",
       "      <td>2030</td>\n",
       "      <td>141</td>\n",
       "      <td>96</td>\n",
       "      <td>1271</td>\n",
       "      <td>53</td>\n",
       "      <td>99</td>\n",
       "      <td>51</td>\n",
       "      <td>43</td>\n",
       "      <td>276</td>\n",
       "    </tr>\n",
       "    <tr>\n",
       "      <td>html</td>\n",
       "      <td>1507</td>\n",
       "      <td>106</td>\n",
       "      <td>254</td>\n",
       "      <td>240</td>\n",
       "      <td>67</td>\n",
       "      <td>49</td>\n",
       "      <td>202</td>\n",
       "      <td>553</td>\n",
       "      <td>36</td>\n",
       "    </tr>\n",
       "    <tr>\n",
       "      <td>org</td>\n",
       "      <td>1405</td>\n",
       "      <td>321</td>\n",
       "      <td>147</td>\n",
       "      <td>415</td>\n",
       "      <td>30</td>\n",
       "      <td>127</td>\n",
       "      <td>194</td>\n",
       "      <td>104</td>\n",
       "      <td>67</td>\n",
       "    </tr>\n",
       "    <tr>\n",
       "      <td>x</td>\n",
       "      <td>1346</td>\n",
       "      <td>168</td>\n",
       "      <td>31</td>\n",
       "      <td>793</td>\n",
       "      <td>25</td>\n",
       "      <td>116</td>\n",
       "      <td>71</td>\n",
       "      <td>70</td>\n",
       "      <td>72</td>\n",
       "    </tr>\n",
       "    <tr>\n",
       "      <td>c</td>\n",
       "      <td>1289</td>\n",
       "      <td>213</td>\n",
       "      <td>96</td>\n",
       "      <td>317</td>\n",
       "      <td>17</td>\n",
       "      <td>266</td>\n",
       "      <td>96</td>\n",
       "      <td>188</td>\n",
       "      <td>96</td>\n",
       "    </tr>\n",
       "    <tr>\n",
       "      <td>b</td>\n",
       "      <td>1086</td>\n",
       "      <td>71</td>\n",
       "      <td>93</td>\n",
       "      <td>633</td>\n",
       "      <td>8</td>\n",
       "      <td>48</td>\n",
       "      <td>31</td>\n",
       "      <td>145</td>\n",
       "      <td>57</td>\n",
       "    </tr>\n",
       "    <tr>\n",
       "      <td>file</td>\n",
       "      <td>1080</td>\n",
       "      <td>160</td>\n",
       "      <td>255</td>\n",
       "      <td>151</td>\n",
       "      <td>22</td>\n",
       "      <td>164</td>\n",
       "      <td>89</td>\n",
       "      <td>89</td>\n",
       "      <td>150</td>\n",
       "    </tr>\n",
       "  </tbody>\n",
       "</table>\n",
       "</div>"
      ],
      "text/plain": [
       "         all   C++  HTML  Python  CSS    C  Java  JavaScript  Shell\n",
       "http    8000  1121   960    2455  338  465   718        1385    558\n",
       "com     5160   652   534    1660  257  237   474         947    399\n",
       "github  2791   359   275     924  183  164   331         303    252\n",
       "python  2030   141    96    1271   53   99    51          43    276\n",
       "html    1507   106   254     240   67   49   202         553     36\n",
       "org     1405   321   147     415   30  127   194         104     67\n",
       "x       1346   168    31     793   25  116    71          70     72\n",
       "c       1289   213    96     317   17  266    96         188     96\n",
       "b       1086    71    93     633    8   48    31         145     57\n",
       "file    1080   160   255     151   22  164    89          89    150"
      ]
     },
     "execution_count": 19,
     "metadata": {},
     "output_type": "execute_result"
    }
   ],
   "source": [
    "# shows the 10 most frequently occuring words\n",
    "word_counts.sort_values(by='all', ascending=False).head(10)"
   ]
  },
  {
   "cell_type": "code",
   "execution_count": 20,
   "metadata": {},
   "outputs": [],
   "source": [
    "# shows words that are unique to each language\n",
    "Shell_unique = word_counts[(word_counts['C++'] == 0) & (word_counts['HTML'] == 0) &(word_counts['Python'] == 0) & (word_counts['CSS'] == 0) & (word_counts['C'] == 0) & (word_counts['Java'] == 0) & (word_counts['JavaScript'] == 0)].sort_values(by='Shell', ascending=False)\n",
    "CPP_unique = word_counts[(word_counts['Shell'] == 0) & (word_counts['HTML'] == 0) &(word_counts['Python'] == 0) & (word_counts['CSS'] == 0) & (word_counts['C'] == 0) & (word_counts['Java'] == 0) & (word_counts['JavaScript'] == 0)].sort_values(by='C++', ascending=False)\n",
    "HTML_unique = word_counts[(word_counts['C++'] == 0) & (word_counts['Shell'] == 0) &(word_counts['Python'] == 0) & (word_counts['CSS'] == 0) & (word_counts['C'] == 0) & (word_counts['Java'] == 0) & (word_counts['JavaScript'] == 0)].sort_values(by='HTML', ascending=False)\n",
    "Python_unique = word_counts[(word_counts['C++'] == 0) & (word_counts['HTML'] == 0) &(word_counts['Shell'] == 0) & (word_counts['CSS'] == 0) & (word_counts['C'] == 0) & (word_counts['Java'] == 0) & (word_counts['JavaScript'] == 0)].sort_values(by='Python', ascending=False)\n",
    "CSS_unique = word_counts[(word_counts['C++'] == 0) & (word_counts['HTML'] == 0) &(word_counts['Python'] == 0) & (word_counts['Shell'] == 0) & (word_counts['C'] == 0) & (word_counts['Java'] == 0) & (word_counts['JavaScript'] == 0)].sort_values(by='CSS', ascending=False)\n",
    "C_unique = word_counts[(word_counts['C++'] == 0) & (word_counts['HTML'] == 0) &(word_counts['Python'] == 0) & (word_counts['CSS'] == 0) & (word_counts['Shell'] == 0) & (word_counts['Java'] == 0) & (word_counts['JavaScript'] == 0)].sort_values(by='C', ascending=False)\n",
    "Java_unique = word_counts[(word_counts['C++'] == 0) & (word_counts['HTML'] == 0) &(word_counts['Python'] == 0) & (word_counts['CSS'] == 0) & (word_counts['C'] == 0) & (word_counts['Shell'] == 0) & (word_counts['JavaScript'] == 0)].sort_values(by='Java', ascending=False)\n",
    "JavaScript_unique = word_counts[(word_counts['C++'] == 0) & (word_counts['HTML'] == 0) &(word_counts['Python'] == 0) & (word_counts['CSS'] == 0) & (word_counts['C'] == 0) & (word_counts['Java'] == 0) & (word_counts['Shell'] == 0)].sort_values(by='JavaScript', ascending=False)"
   ]
  },
  {
   "cell_type": "code",
   "execution_count": 21,
   "metadata": {},
   "outputs": [],
   "source": [
    "# idea create list of stop words that are all values except unique-to-language words from train group then\n",
    "# try to predict test group"
   ]
  },
  {
   "cell_type": "code",
   "execution_count": 22,
   "metadata": {},
   "outputs": [],
   "source": [
    "# looking at bigrams\n",
    "# shows bigrams for data set\n",
    "Shell_bigrams = pd.Series(nltk.ngrams(Shell_words, 2))\n",
    "CPP_bigrams = pd.Series(nltk.ngrams(CPP_words, 2))\n",
    "HTML_bigrams = pd.Series(nltk.ngrams(HTML_words, 2))\n",
    "Python_bigrams = pd.Series(nltk.ngrams(Python_words, 2))\n",
    "CSS_bigrams = pd.Series(nltk.ngrams(CSS_words, 2))\n",
    "C_bigrams = pd.Series(nltk.ngrams(C_words, 2))\n",
    "Java_bigrams = pd.Series(nltk.ngrams(Java_words, 2))\n",
    "JavaScript_bigrams = pd.Series(nltk.ngrams(JavaScript_words, 2))\n",
    "all_bigrams = pd.Series(nltk.ngrams(all_words, 2))"
   ]
  },
  {
   "cell_type": "code",
   "execution_count": 23,
   "metadata": {},
   "outputs": [],
   "source": [
    "# Idea Vectorize using bigrams...ngrams"
   ]
  },
  {
   "cell_type": "code",
   "execution_count": 24,
   "metadata": {},
   "outputs": [],
   "source": [
    "# Idea Could try looking at frequency of bigrams"
   ]
  },
  {
   "cell_type": "code",
   "execution_count": 25,
   "metadata": {},
   "outputs": [],
   "source": [
    "top_20_bigrams = (pd.Series(nltk.ngrams(all_words, 2))\n",
    "                      .value_counts()\n",
    "                      .head(20))"
   ]
  },
  {
   "cell_type": "code",
   "execution_count": 26,
   "metadata": {},
   "outputs": [
    {
     "data": {
      "text/plain": [
       "Text(0.5, 0, '# Occurances')"
      ]
     },
     "execution_count": 26,
     "metadata": {},
     "output_type": "execute_result"
    },
    {
     "data": {
      "image/png": "[encoded data removed]",
      "text/plain": [
       "<Figure size 720x432 with 1 Axes>"
      ]
     },
     "metadata": {
      "needs_background": "light"
     },
     "output_type": "display_data"
    }
   ],
   "source": [
    "top_20_bigrams.sort_values().plot.barh(color='lightblue', width=.9, figsize=(10, 6))\n",
    "\n",
    "plt.title('20 Most frequently occuring bigrams')\n",
    "plt.ylabel('Bigram')\n",
    "plt.xlabel('# Occurances')"
   ]
  },
  {
   "cell_type": "code",
   "execution_count": 27,
   "metadata": {},
   "outputs": [],
   "source": [
    "# Decided to drop readme_contents_stemmed. Limmitizing is reputed to the most accurate and because the data set is\n",
    "# small the trade of in quicker computation time is negligable. There is also insufficient time to explore the \n",
    "# stem option any further.\n",
    "df.drop(columns='readme_contents_stemmed',inplace=True)"
   ]
  },
  {
   "cell_type": "code",
   "execution_count": 28,
   "metadata": {},
   "outputs": [
    {
     "data": {
      "text/html": [
       "<div>\n",
       "<style scoped>\n",
       "    .dataframe tbody tr th:only-of-type {\n",
       "        vertical-align: middle;\n",
       "    }\n",
       "\n",
       "    .dataframe tbody tr th {\n",
       "        vertical-align: top;\n",
       "    }\n",
       "\n",
       "    .dataframe thead th {\n",
       "        text-align: right;\n",
       "    }\n",
       "</style>\n",
       "<table border=\"1\" class=\"dataframe\">\n",
       "  <thead>\n",
       "    <tr style=\"text-align: right;\">\n",
       "      <th></th>\n",
       "      <th>language</th>\n",
       "      <th>readme_contents_lemmatized</th>\n",
       "    </tr>\n",
       "  </thead>\n",
       "  <tbody>\n",
       "    <tr>\n",
       "      <td>0</td>\n",
       "      <td>CSS</td>\n",
       "      <td>welcome warning book finished still working ch...</td>\n",
       "    </tr>\n",
       "    <tr>\n",
       "      <td>1</td>\n",
       "      <td>Java</td>\n",
       "      <td>monorepo deeplearning j welcome new monorepo d...</td>\n",
       "    </tr>\n",
       "    <tr>\n",
       "      <td>2</td>\n",
       "      <td>Java</td>\n",
       "      <td>h join chat http gitter im h oai h http badge ...</td>\n",
       "    </tr>\n",
       "    <tr>\n",
       "      <td>3</td>\n",
       "      <td>C++</td>\n",
       "      <td>div align center img src http www tensorflow o...</td>\n",
       "    </tr>\n",
       "    <tr>\n",
       "      <td>4</td>\n",
       "      <td>C++</td>\n",
       "      <td>grpc rpc library framework grpc modern open so...</td>\n",
       "    </tr>\n",
       "  </tbody>\n",
       "</table>\n",
       "</div>"
      ],
      "text/plain": [
       "  language                         readme_contents_lemmatized\n",
       "0      CSS  welcome warning book finished still working ch...\n",
       "1     Java  monorepo deeplearning j welcome new monorepo d...\n",
       "2     Java  h join chat http gitter im h oai h http badge ...\n",
       "3      C++  div align center img src http www tensorflow o...\n",
       "4      C++  grpc rpc library framework grpc modern open so..."
      ]
     },
     "execution_count": 28,
     "metadata": {},
     "output_type": "execute_result"
    }
   ],
   "source": [
    "df.head()"
   ]
  },
  {
   "cell_type": "markdown",
   "metadata": {},
   "source": [
    "# Modeling"
   ]
  },
  {
   "cell_type": "code",
   "execution_count": 38,
   "metadata": {},
   "outputs": [
    {
     "name": "stdout",
     "output_type": "stream",
     "text": [
      "Accuracy of random forest classifier on training set: 0.50\n",
      "Accuracy of random forest classifier on test set: 0.29\n"
     ]
    }
   ],
   "source": [
    "# Create baseline model\n",
    "\n",
    "# vectorize stemmed readme contents and assign X any y veriables\n",
    "tfidf = TfidfVectorizer()\n",
    "X = tfidf.fit_transform(df.readme_contents_lemmatized)\n",
    "y = df.language\n",
    "\n",
    "# Split Data into test and train\n",
    "X_train, X_test, y_train, y_test = train_test_split(X, y, stratify=y, test_size = .2, random_state = 123)\n",
    "    \n",
    "# Create Random Forest object and fit it to the data\n",
    "rf = RandomForestClassifier(bootstrap=True, \n",
    "                            class_weight=None, \n",
    "                            criterion='gini',\n",
    "                            min_samples_leaf=3,\n",
    "                            n_estimators=100,\n",
    "                            max_depth=3, \n",
    "                            random_state=123)\n",
    "        \n",
    "rf.fit(X_train, y_train)\n",
    "\n",
    "# print accuracy for train and test data sets\n",
    "print('Accuracy of random forest classifier on training set: {:.2f}'\n",
    "      .format(rf.score(X_train, y_train)))\n",
    "print('Accuracy of random forest classifier on test set: {:.2f}'\n",
    "     .format(rf.score(X_test, y_test)))"
   ]
  },
  {
   "cell_type": "markdown",
   "metadata": {},
   "source": [
    "Because there are 8 total languages we would expect an accuracy rating of .13 (rounded).\n",
    "\n",
    "The Baseline model performed better than chance at .27 on test data"
   ]
  },
  {
   "cell_type": "code",
   "execution_count": 37,
   "metadata": {},
   "outputs": [
    {
     "name": "stdout",
     "output_type": "stream",
     "text": [
      "Accuracy of random forest classifier on training set: 0.37\n",
      "Accuracy of random forest classifier on test set: 0.27\n"
     ]
    }
   ],
   "source": [
    "# Try baseline model using bigrams\n",
    "\n",
    "# vectorize stemmed readme contents and assign X any y veriables\n",
    "tfidf = TfidfVectorizer(ngram_range=(2, 2))\n",
    "X = tfidf.fit_transform(df.readme_contents_lemmatized)\n",
    "y = df.language\n",
    "\n",
    "# Split Data into test and train\n",
    "X_train, X_test, y_train, y_test = train_test_split(X, y, stratify=y, test_size = .2, random_state = 123)\n",
    "    \n",
    "# Create Random Forest object and fit it to the data\n",
    "rf = RandomForestClassifier(bootstrap=True, \n",
    "                            class_weight=None, \n",
    "                            criterion='gini',\n",
    "                            min_samples_leaf=3,\n",
    "                            n_estimators=100,\n",
    "                            max_depth=3, \n",
    "                            random_state=123)\n",
    "        \n",
    "rf.fit(X_train, y_train)\n",
    "\n",
    "# print accuracy for train and test data sets\n",
    "print('Accuracy of random forest classifier on training set: {:.2f}'\n",
    "      .format(rf.score(X_train, y_train)))\n",
    "print('Accuracy of random forest classifier on test set: {:.2f}'\n",
    "     .format(rf.score(X_test, y_test)))"
   ]
  },
  {
   "cell_type": "markdown",
   "metadata": {},
   "source": [
    "model Marginally improves using trigarms .29"
   ]
  },
  {
   "cell_type": "code",
   "execution_count": 36,
   "metadata": {},
   "outputs": [
    {
     "name": "stdout",
     "output_type": "stream",
     "text": [
      "Accuracy of random forest classifier on training set: 0.26\n",
      "Accuracy of random forest classifier on test set: 0.25\n"
     ]
    }
   ],
   "source": [
    "# Try baseline model using trigrams\n",
    "\n",
    "# vectorize stemmed readme contents and assign X any y veriables\n",
    "tfidf = TfidfVectorizer(ngram_range=(3, 3))\n",
    "X = tfidf.fit_transform(df.readme_contents_lemmatized)\n",
    "y = df.language\n",
    "\n",
    "# Split Data into test and train\n",
    "X_train, X_test, y_train, y_test = train_test_split(X, y, stratify=y, test_size = .2, random_state = 123)\n",
    "    \n",
    "# Create Random Forest object and fit it to the data\n",
    "rf = RandomForestClassifier(bootstrap=True, \n",
    "                            class_weight=None, \n",
    "                            criterion='gini',\n",
    "                            min_samples_leaf=3,\n",
    "                            n_estimators=100,\n",
    "                            max_depth=3, \n",
    "                            random_state=123)\n",
    "        \n",
    "rf.fit(X_train, y_train)\n",
    "\n",
    "# print accuracy for train and test data sets\n",
    "print('Accuracy of random forest classifier on training set: {:.2f}'\n",
    "      .format(rf.score(X_train, y_train)))\n",
    "print('Accuracy of random forest classifier on test set: {:.2f}'\n",
    "     .format(rf.score(X_test, y_test)))"
   ]
  },
  {
   "cell_type": "code",
   "execution_count": 35,
   "metadata": {},
   "outputs": [
    {
     "name": "stdout",
     "output_type": "stream",
     "text": [
      "Accuracy of random forest classifier on training set: 0.24\n",
      "Accuracy of random forest classifier on test set: 0.24\n"
     ]
    }
   ],
   "source": [
    "# Try baseline model using Tetragrams\n",
    "\n",
    "# vectorize stemmed readme contents and assign X any y veriables\n",
    "tfidf = TfidfVectorizer(ngram_range=(4, 4))\n",
    "X = tfidf.fit_transform(df.readme_contents_lemmatized)\n",
    "y = df.language\n",
    "\n",
    "# Split Data into test and train\n",
    "X_train, X_test, y_train, y_test = train_test_split(X, y, stratify=y, test_size = .2, random_state = 123)\n",
    "    \n",
    "# Create Random Forest object and fit it to the data\n",
    "rf = RandomForestClassifier(bootstrap=True, \n",
    "                            class_weight=None, \n",
    "                            criterion='gini',\n",
    "                            min_samples_leaf=3,\n",
    "                            n_estimators=100,\n",
    "                            max_depth=3, \n",
    "                            random_state=123)\n",
    "        \n",
    "rf.fit(X_train, y_train)\n",
    "\n",
    "# print accuracy for train and test data sets\n",
    "print('Accuracy of random forest classifier on training set: {:.2f}'\n",
    "      .format(rf.score(X_train, y_train)))\n",
    "print('Accuracy of random forest classifier on test set: {:.2f}'\n",
    "     .format(rf.score(X_test, y_test)))"
   ]
  },
  {
   "cell_type": "code",
   "execution_count": 39,
   "metadata": {},
   "outputs": [
    {
     "name": "stdout",
     "output_type": "stream",
     "text": [
      "Accuracy of random forest classifier on training set: 0.48\n",
      "Accuracy of random forest classifier on test set: 0.29\n"
     ]
    }
   ],
   "source": [
    "# Try baseline model using bigrams and monograms\n",
    "\n",
    "# vectorize stemmed readme contents and assign X any y veriables\n",
    "tfidf = TfidfVectorizer(ngram_range=(1, 2))\n",
    "X = tfidf.fit_transform(df.readme_contents_lemmatized)\n",
    "y = df.language\n",
    "\n",
    "# Split Data into test and train\n",
    "X_train, X_test, y_train, y_test = train_test_split(X, y, stratify=y, test_size = .2, random_state = 123)\n",
    "    \n",
    "# Create Random Forest object and fit it to the data\n",
    "rf = RandomForestClassifier(bootstrap=True, \n",
    "                            class_weight=None, \n",
    "                            criterion='gini',\n",
    "                            min_samples_leaf=3,\n",
    "                            n_estimators=100,\n",
    "                            max_depth=3, \n",
    "                            random_state=123)\n",
    "        \n",
    "rf.fit(X_train, y_train)\n",
    "\n",
    "# print accuracy for train and test data sets\n",
    "print('Accuracy of random forest classifier on training set: {:.2f}'\n",
    "      .format(rf.score(X_train, y_train)))\n",
    "print('Accuracy of random forest classifier on test set: {:.2f}'\n",
    "     .format(rf.score(X_test, y_test)))"
   ]
  },
  {
   "cell_type": "markdown",
   "metadata": {},
   "source": [
    "### Model using only bigrams has shown the best result .29"
   ]
  },
  {
   "cell_type": "code",
   "execution_count": 42,
   "metadata": {},
   "outputs": [],
   "source": [
    "#Create/vectorize data for X/y - train/test\n",
    "origin_df = prep_readme()\n",
    "origin_df.drop(columns=[\"repo\", \"readme_contents\", \"readme_contents_lemmatized\"], inplace=True)\n",
    "tfidf = TfidfVectorizer(ngram_range=(1,1))\n",
    "tfidfs = tfidf.fit_transform(origin_df.readme_contents_stemmed)\n",
    "X = tfidfs\n",
    "y = origin_df.language\n",
    "X_train, X_test, y_train, y_test = train_test_split(X, y, stratify=y, test_size=.5)"
   ]
  },
  {
   "cell_type": "code",
   "execution_count": 45,
   "metadata": {},
   "outputs": [
    {
     "name": "stdout",
     "output_type": "stream",
     "text": [
      "Accuracy of random forest classifier on training set: 0.96\n",
      "Accuracy of random forest classifier on test set: 0.43\n"
     ]
    }
   ],
   "source": [
    "#Use AdaBoostClassifier with RandomForest as a baseline_estimator to attain better results.\n",
    "from sklearn.ensemble import RandomForestClassifier, AdaBoostClassifier\n",
    "rfc = RandomForestClassifier(random_state=123, min_samples_split=11,\\\n",
    "     n_estimators=100,n_jobs=-1, max_features=\"auto\")\n",
    "clf = AdaBoostClassifier(n_estimators=15,learning_rate=2,\\\n",
    "     random_state=123, base_estimator=rfc)\n",
    "clf.fit(X_train, y_train)\n",
    "# print accuracy for train and test data sets\n",
    "print('Accuracy of random forest classifier on training set: {:.2f}'\n",
    "      .format(clf.score(X_train, y_train)))\n",
    "print('Accuracy of random forest classifier on test set: {:.2f}'\n",
    "     .format(clf.score(X_test, y_test)))"
   ]
  },
  {
   "cell_type": "code",
   "execution_count": 29,
   "metadata": {},
   "outputs": [
    {
     "data": {
      "text/html": [
       "<div>\n",
       "<style scoped>\n",
       "    .dataframe tbody tr th:only-of-type {\n",
       "        vertical-align: middle;\n",
       "    }\n",
       "\n",
       "    .dataframe tbody tr th {\n",
       "        vertical-align: top;\n",
       "    }\n",
       "\n",
       "    .dataframe thead th {\n",
       "        text-align: right;\n",
       "    }\n",
       "</style>\n",
       "<table border=\"1\" class=\"dataframe\">\n",
       "  <thead>\n",
       "    <tr style=\"text-align: right;\">\n",
       "      <th></th>\n",
       "      <th>language</th>\n",
       "      <th>readme_contents_lemmatized</th>\n",
       "    </tr>\n",
       "  </thead>\n",
       "  <tbody>\n",
       "    <tr>\n",
       "      <th>0</th>\n",
       "      <td>CSS</td>\n",
       "      <td>welcome warning book finished still working ch...</td>\n",
       "    </tr>\n",
       "    <tr>\n",
       "      <th>1</th>\n",
       "      <td>Java</td>\n",
       "      <td>monorepo deeplearning j welcome new monorepo d...</td>\n",
       "    </tr>\n",
       "    <tr>\n",
       "      <th>2</th>\n",
       "      <td>Java</td>\n",
       "      <td>h join chat http gitter im h oai h http badge ...</td>\n",
       "    </tr>\n",
       "    <tr>\n",
       "      <th>3</th>\n",
       "      <td>C++</td>\n",
       "      <td>div align center img src http www tensorflow o...</td>\n",
       "    </tr>\n",
       "    <tr>\n",
       "      <th>4</th>\n",
       "      <td>C++</td>\n",
       "      <td>grpc rpc library framework grpc modern open so...</td>\n",
       "    </tr>\n",
       "  </tbody>\n",
       "</table>\n",
       "</div>"
      ],
      "text/plain": [
       "  language                         readme_contents_lemmatized\n",
       "0      CSS  welcome warning book finished still working ch...\n",
       "1     Java  monorepo deeplearning j welcome new monorepo d...\n",
       "2     Java  h join chat http gitter im h oai h http badge ...\n",
       "3      C++  div align center img src http www tensorflow o...\n",
       "4      C++  grpc rpc library framework grpc modern open so..."
      ]
     },
     "execution_count": 29,
     "metadata": {},
     "output_type": "execute_result"
    }
   ],
   "source": [
    "df.head()"
   ]
  },
  {
   "cell_type": "code",
   "execution_count": 30,
   "metadata": {},
   "outputs": [],
   "source": [
    "# Create model using go-words\n",
    "\n",
    "# Split Data into test and train with random state 999\n",
    "train, test = train_test_split(df, stratify=df.language, train_size = .8, random_state = 999)"
   ]
  },
  {
   "cell_type": "code",
   "execution_count": 31,
   "metadata": {},
   "outputs": [],
   "source": [
    "# get a list of words tied to each language in train\n",
    "CPP_words = e.word_soup(' '.join(train[train.language == 'C++'].readme_contents_lemmatized))\n",
    "HTML_words = e.word_soup(' '.join(train[train.language == 'HTML'].readme_contents_lemmatized))\n",
    "Python_words = e.word_soup(' '.join(train[train.language == 'Python'].readme_contents_lemmatized))\n",
    "CSS_words = e.word_soup(' '.join(train[train.language == 'CSS'].readme_contents_lemmatized))\n",
    "C_words = e.word_soup(' '.join(train[train.language == 'C'].readme_contents_lemmatized))\n",
    "Java_words = e.word_soup(' '.join(train[train.language == 'Java'].readme_contents_lemmatized))\n",
    "JavaScript_words = e.word_soup(' '.join(train[train.language == 'JavaScript'].readme_contents_lemmatized))\n",
    "Shell_words = e.word_soup(' '.join(train[train.language == 'Shell'].readme_contents_lemmatized))\n",
    "all_words = e.word_soup(' '.join(train.readme_contents_lemmatized))"
   ]
  },
  {
   "cell_type": "code",
   "execution_count": 32,
   "metadata": {},
   "outputs": [],
   "source": [
    "# gets frequency of each word tied to each language in train\n",
    "CPP_freq = pd.Series(CPP_words).value_counts()\n",
    "HTML_freq = pd.Series(HTML_words).value_counts()\n",
    "Python_freq = pd.Series(Python_words).value_counts()\n",
    "CSS_freq = pd.Series(CSS_words).value_counts()\n",
    "C_freq = pd.Series(C_words).value_counts()\n",
    "Java_freq = pd.Series(Java_words).value_counts()\n",
    "JavaScript_freq = pd.Series(JavaScript_words).value_counts()\n",
    "Shell_freq = pd.Series(Shell_words).value_counts()\n",
    "all_freq = pd.Series(all_words).value_counts()"
   ]
  },
  {
   "cell_type": "code",
   "execution_count": 33,
   "metadata": {},
   "outputs": [],
   "source": [
    "# creates a data frame that shows the frequency of each word across each language in train\n",
    "word_counts = (pd.concat([all_freq,CPP_freq,HTML_freq,Python_freq,CSS_freq,C_freq,Java_freq,JavaScript_freq,Shell_freq], axis=1, sort=True)\n",
    "                .set_axis(['all', 'C++', 'HTML', 'Python', 'CSS', 'C', 'Java', 'JavaScript', 'Shell'], axis=1, inplace=False)\n",
    "                .fillna(0)\n",
    "                .apply(lambda s: s.astype(int)))"
   ]
  },
  {
   "cell_type": "code",
   "execution_count": 34,
   "metadata": {},
   "outputs": [
    {
     "data": {
      "text/html": [
       "<div>\n",
       "<style scoped>\n",
       "    .dataframe tbody tr th:only-of-type {\n",
       "        vertical-align: middle;\n",
       "    }\n",
       "\n",
       "    .dataframe tbody tr th {\n",
       "        vertical-align: top;\n",
       "    }\n",
       "\n",
       "    .dataframe thead th {\n",
       "        text-align: right;\n",
       "    }\n",
       "</style>\n",
       "<table border=\"1\" class=\"dataframe\">\n",
       "  <thead>\n",
       "    <tr style=\"text-align: right;\">\n",
       "      <th></th>\n",
       "      <th>all</th>\n",
       "      <th>C++</th>\n",
       "      <th>HTML</th>\n",
       "      <th>Python</th>\n",
       "      <th>CSS</th>\n",
       "      <th>C</th>\n",
       "      <th>Java</th>\n",
       "      <th>JavaScript</th>\n",
       "      <th>Shell</th>\n",
       "    </tr>\n",
       "  </thead>\n",
       "  <tbody>\n",
       "    <tr>\n",
       "      <th>aa</th>\n",
       "      <td>20</td>\n",
       "      <td>1</td>\n",
       "      <td>6</td>\n",
       "      <td>0</td>\n",
       "      <td>0</td>\n",
       "      <td>0</td>\n",
       "      <td>2</td>\n",
       "      <td>11</td>\n",
       "      <td>0</td>\n",
       "    </tr>\n",
       "    <tr>\n",
       "      <th>aaa</th>\n",
       "      <td>8</td>\n",
       "      <td>0</td>\n",
       "      <td>3</td>\n",
       "      <td>0</td>\n",
       "      <td>0</td>\n",
       "      <td>0</td>\n",
       "      <td>0</td>\n",
       "      <td>1</td>\n",
       "      <td>4</td>\n",
       "    </tr>\n",
       "    <tr>\n",
       "      <th>aaaa</th>\n",
       "      <td>5</td>\n",
       "      <td>0</td>\n",
       "      <td>0</td>\n",
       "      <td>1</td>\n",
       "      <td>0</td>\n",
       "      <td>0</td>\n",
       "      <td>4</td>\n",
       "      <td>0</td>\n",
       "      <td>0</td>\n",
       "    </tr>\n",
       "    <tr>\n",
       "      <th>aaaaaelftksuqmcc</th>\n",
       "      <td>1</td>\n",
       "      <td>1</td>\n",
       "      <td>0</td>\n",
       "      <td>0</td>\n",
       "      <td>0</td>\n",
       "      <td>0</td>\n",
       "      <td>0</td>\n",
       "      <td>0</td>\n",
       "      <td>0</td>\n",
       "    </tr>\n",
       "    <tr>\n",
       "      <th>aaaaaxrstlmaqobyzgaaaafis</th>\n",
       "      <td>1</td>\n",
       "      <td>1</td>\n",
       "      <td>0</td>\n",
       "      <td>0</td>\n",
       "      <td>0</td>\n",
       "      <td>0</td>\n",
       "      <td>0</td>\n",
       "      <td>0</td>\n",
       "      <td>0</td>\n",
       "    </tr>\n",
       "  </tbody>\n",
       "</table>\n",
       "</div>"
      ],
      "text/plain": [
       "                           all  C++  HTML  Python  CSS  C  Java  JavaScript  \\\n",
       "aa                          20    1     6       0    0  0     2          11   \n",
       "aaa                          8    0     3       0    0  0     0           1   \n",
       "aaaa                         5    0     0       1    0  0     4           0   \n",
       "aaaaaelftksuqmcc             1    1     0       0    0  0     0           0   \n",
       "aaaaaxrstlmaqobyzgaaaafis    1    1     0       0    0  0     0           0   \n",
       "\n",
       "                           Shell  \n",
       "aa                             0  \n",
       "aaa                            4  \n",
       "aaaa                           0  \n",
       "aaaaaelftksuqmcc               0  \n",
       "aaaaaxrstlmaqobyzgaaaafis      0  "
      ]
     },
     "execution_count": 34,
     "metadata": {},
     "output_type": "execute_result"
    }
   ],
   "source": [
    "word_counts.head()"
   ]
  },
  {
   "cell_type": "code",
   "execution_count": 35,
   "metadata": {},
   "outputs": [],
   "source": [
    "# shows words that are unique to each language in train\n",
    "Shell_unique = word_counts[(word_counts['C++'] == 0) & (word_counts['HTML'] == 0) &(word_counts['Python'] == 0) & (word_counts['CSS'] == 0) & (word_counts['C'] == 0) & (word_counts['Java'] == 0) & (word_counts['JavaScript'] == 0)].sort_values(by='Shell', ascending=False)\n",
    "CPP_unique = word_counts[(word_counts['Shell'] == 0) & (word_counts['HTML'] == 0) &(word_counts['Python'] == 0) & (word_counts['CSS'] == 0) & (word_counts['C'] == 0) & (word_counts['Java'] == 0) & (word_counts['JavaScript'] == 0)].sort_values(by='C++', ascending=False)\n",
    "HTML_unique = word_counts[(word_counts['C++'] == 0) & (word_counts['Shell'] == 0) &(word_counts['Python'] == 0) & (word_counts['CSS'] == 0) & (word_counts['C'] == 0) & (word_counts['Java'] == 0) & (word_counts['JavaScript'] == 0)].sort_values(by='HTML', ascending=False)\n",
    "Python_unique = word_counts[(word_counts['C++'] == 0) & (word_counts['HTML'] == 0) &(word_counts['Shell'] == 0) & (word_counts['CSS'] == 0) & (word_counts['C'] == 0) & (word_counts['Java'] == 0) & (word_counts['JavaScript'] == 0)].sort_values(by='Python', ascending=False)\n",
    "CSS_unique = word_counts[(word_counts['C++'] == 0) & (word_counts['HTML'] == 0) &(word_counts['Python'] == 0) & (word_counts['Shell'] == 0) & (word_counts['C'] == 0) & (word_counts['Java'] == 0) & (word_counts['JavaScript'] == 0)].sort_values(by='CSS', ascending=False)\n",
    "C_unique = word_counts[(word_counts['C++'] == 0) & (word_counts['HTML'] == 0) &(word_counts['Python'] == 0) & (word_counts['CSS'] == 0) & (word_counts['Shell'] == 0) & (word_counts['Java'] == 0) & (word_counts['JavaScript'] == 0)].sort_values(by='C', ascending=False)\n",
    "Java_unique = word_counts[(word_counts['C++'] == 0) & (word_counts['HTML'] == 0) &(word_counts['Python'] == 0) & (word_counts['CSS'] == 0) & (word_counts['C'] == 0) & (word_counts['Shell'] == 0) & (word_counts['JavaScript'] == 0)].sort_values(by='Java', ascending=False)\n",
    "JavaScript_unique = word_counts[(word_counts['C++'] == 0) & (word_counts['HTML'] == 0) &(word_counts['Python'] == 0) & (word_counts['CSS'] == 0) & (word_counts['C'] == 0) & (word_counts['Java'] == 0) & (word_counts['Shell'] == 0)].sort_values(by='JavaScript', ascending=False)"
   ]
  },
  {
   "cell_type": "code",
   "execution_count": 36,
   "metadata": {},
   "outputs": [
    {
     "data": {
      "text/html": [
       "<div>\n",
       "<style scoped>\n",
       "    .dataframe tbody tr th:only-of-type {\n",
       "        vertical-align: middle;\n",
       "    }\n",
       "\n",
       "    .dataframe tbody tr th {\n",
       "        vertical-align: top;\n",
       "    }\n",
       "\n",
       "    .dataframe thead th {\n",
       "        text-align: right;\n",
       "    }\n",
       "</style>\n",
       "<table border=\"1\" class=\"dataframe\">\n",
       "  <thead>\n",
       "    <tr style=\"text-align: right;\">\n",
       "      <th></th>\n",
       "      <th>all</th>\n",
       "      <th>C++</th>\n",
       "      <th>HTML</th>\n",
       "      <th>Python</th>\n",
       "      <th>CSS</th>\n",
       "      <th>C</th>\n",
       "      <th>Java</th>\n",
       "      <th>JavaScript</th>\n",
       "      <th>Shell</th>\n",
       "    </tr>\n",
       "  </thead>\n",
       "  <tbody>\n",
       "    <tr>\n",
       "      <th>zsh</th>\n",
       "      <td>166</td>\n",
       "      <td>0</td>\n",
       "      <td>0</td>\n",
       "      <td>0</td>\n",
       "      <td>0</td>\n",
       "      <td>0</td>\n",
       "      <td>0</td>\n",
       "      <td>0</td>\n",
       "      <td>166</td>\n",
       "    </tr>\n",
       "    <tr>\n",
       "      <th>babun</th>\n",
       "      <td>161</td>\n",
       "      <td>0</td>\n",
       "      <td>0</td>\n",
       "      <td>0</td>\n",
       "      <td>0</td>\n",
       "      <td>0</td>\n",
       "      <td>0</td>\n",
       "      <td>0</td>\n",
       "      <td>161</td>\n",
       "    </tr>\n",
       "    <tr>\n",
       "      <th>passenger</th>\n",
       "      <td>141</td>\n",
       "      <td>0</td>\n",
       "      <td>0</td>\n",
       "      <td>0</td>\n",
       "      <td>0</td>\n",
       "      <td>0</td>\n",
       "      <td>0</td>\n",
       "      <td>0</td>\n",
       "      <td>141</td>\n",
       "    </tr>\n",
       "    <tr>\n",
       "      <th>ohmyzsh</th>\n",
       "      <td>78</td>\n",
       "      <td>0</td>\n",
       "      <td>0</td>\n",
       "      <td>0</td>\n",
       "      <td>0</td>\n",
       "      <td>0</td>\n",
       "      <td>0</td>\n",
       "      <td>0</td>\n",
       "      <td>78</td>\n",
       "    </tr>\n",
       "    <tr>\n",
       "      <th>oh</th>\n",
       "      <td>75</td>\n",
       "      <td>0</td>\n",
       "      <td>0</td>\n",
       "      <td>0</td>\n",
       "      <td>0</td>\n",
       "      <td>0</td>\n",
       "      <td>0</td>\n",
       "      <td>0</td>\n",
       "      <td>75</td>\n",
       "    </tr>\n",
       "  </tbody>\n",
       "</table>\n",
       "</div>"
      ],
      "text/plain": [
       "           all  C++  HTML  Python  CSS  C  Java  JavaScript  Shell\n",
       "zsh        166    0     0       0    0  0     0           0    166\n",
       "babun      161    0     0       0    0  0     0           0    161\n",
       "passenger  141    0     0       0    0  0     0           0    141\n",
       "ohmyzsh     78    0     0       0    0  0     0           0     78\n",
       "oh          75    0     0       0    0  0     0           0     75"
      ]
     },
     "execution_count": 36,
     "metadata": {},
     "output_type": "execute_result"
    }
   ],
   "source": [
    "Shell_unique.head()"
   ]
  },
  {
   "cell_type": "code",
   "execution_count": 37,
   "metadata": {},
   "outputs": [],
   "source": [
    "# join all words that are unique to one language together in one list\n",
    "go_words = set(Shell_unique.index).union(set(CPP_unique.index)).union(set(HTML_unique.index)).union(set(Python_unique.index)).union(set(CSS_unique.index)).union(set(C_unique.index)).union(set(Java_unique.index)).union(set(JavaScript_unique.index))"
   ]
  },
  {
   "cell_type": "code",
   "execution_count": 38,
   "metadata": {},
   "outputs": [],
   "source": [
    "# function removes words that are not in go_words from an string\n",
    "def one_language_words(text):\n",
    "    \n",
    "    wnl = nltk.stem.WordNetLemmatizer()\n",
    " \n",
    "    words = re.sub(r'[^\\w\\s]', '', text).split()\n",
    "    \n",
    "    return ' '.join([word for word in words if word in go_words])"
   ]
  },
  {
   "cell_type": "code",
   "execution_count": 39,
   "metadata": {},
   "outputs": [],
   "source": [
    "df['readme_contents_lemmatized'] = df['readme_contents_lemmatized'].apply(one_language_words)"
   ]
  },
  {
   "cell_type": "code",
   "execution_count": 40,
   "metadata": {},
   "outputs": [
    {
     "data": {
      "text/html": [
       "<div>\n",
       "<style scoped>\n",
       "    .dataframe tbody tr th:only-of-type {\n",
       "        vertical-align: middle;\n",
       "    }\n",
       "\n",
       "    .dataframe tbody tr th {\n",
       "        vertical-align: top;\n",
       "    }\n",
       "\n",
       "    .dataframe thead th {\n",
       "        text-align: right;\n",
       "    }\n",
       "</style>\n",
       "<table border=\"1\" class=\"dataframe\">\n",
       "  <thead>\n",
       "    <tr style=\"text-align: right;\">\n",
       "      <th></th>\n",
       "      <th>language</th>\n",
       "      <th>readme_contents_lemmatized</th>\n",
       "    </tr>\n",
       "  </thead>\n",
       "  <tbody>\n",
       "    <tr>\n",
       "      <th>0</th>\n",
       "      <td>CSS</td>\n",
       "      <td>epub patient svetlin nakov gitbook nakov crypt...</td>\n",
       "    </tr>\n",
       "    <tr>\n",
       "      <th>1</th>\n",
       "      <td>Java</td>\n",
       "      <td>monorepo deeplearning monorepo deeplearning de...</td>\n",
       "    </tr>\n",
       "    <tr>\n",
       "      <th>2</th>\n",
       "      <td>Java</td>\n",
       "      <td>oai oai seamlessly boosting forest forest stac...</td>\n",
       "    </tr>\n",
       "    <tr>\n",
       "      <th>3</th>\n",
       "      <td>C++</td>\n",
       "      <td>tf guaranteed subscribing announce announce ni...</td>\n",
       "    </tr>\n",
       "    <tr>\n",
       "      <th>4</th>\n",
       "      <td>C++</td>\n",
       "      <td>transparently simplifies googlegroups maven ex...</td>\n",
       "    </tr>\n",
       "  </tbody>\n",
       "</table>\n",
       "</div>"
      ],
      "text/plain": [
       "  language                         readme_contents_lemmatized\n",
       "0      CSS  epub patient svetlin nakov gitbook nakov crypt...\n",
       "1     Java  monorepo deeplearning monorepo deeplearning de...\n",
       "2     Java  oai oai seamlessly boosting forest forest stac...\n",
       "3      C++  tf guaranteed subscribing announce announce ni...\n",
       "4      C++  transparently simplifies googlegroups maven ex..."
      ]
     },
     "execution_count": 40,
     "metadata": {},
     "output_type": "execute_result"
    }
   ],
   "source": [
    "df.head()"
   ]
  },
  {
   "cell_type": "code",
   "execution_count": 41,
   "metadata": {},
   "outputs": [
    {
     "name": "stdout",
     "output_type": "stream",
     "text": [
      "Accuracy of Decision Tree classifier on training set: 0.26\n",
      "Accuracy of Decision Tree classifier on test set: 0.24\n"
     ]
    }
   ],
   "source": [
    "# Try decision tree using unique to language words\n",
    "\n",
    "# vectorize stemmed readme contents and assign X any y veriables\n",
    "tfidf = TfidfVectorizer()\n",
    "tfidfs = tfidf.fit_transform(df.readme_contents_lemmatized)\n",
    "\n",
    "X = tfidfs\n",
    "y = df.language\n",
    "\n",
    "# split test and train into x and y test and train\n",
    "X_train, X_test, y_train, y_test = train_test_split(X, y, stratify=df.language, train_size = .8, random_state = 999)\n",
    "\n",
    "# create clasifier object and fit to data\n",
    "clf = DecisionTreeClassifier(criterion='gini', max_depth=3, random_state=123)\n",
    "\n",
    "clf.fit(X_train, y_train)\n",
    "\n",
    "print('Accuracy of Decision Tree classifier on training set: {:.2f}'\n",
    "     .format(clf.score(X_train, y_train)))\n",
    "print('Accuracy of Decision Tree classifier on test set: {:.2f}'\n",
    "     .format(clf.score(X_test, y_test)))"
   ]
  },
  {
   "cell_type": "code",
   "execution_count": 42,
   "metadata": {},
   "outputs": [
    {
     "data": {
      "text/plain": [
       "0.19047619047619047"
      ]
     },
     "execution_count": 42,
     "metadata": {},
     "output_type": "execute_result"
    }
   ],
   "source": [
    "# Try model using unique to language words\n",
    "\n",
    "# vectorize stemmed readme contents and assign X any y veriables\n",
    "tfidf = TfidfVectorizer()\n",
    "tfidfs = tfidf.fit_transform(df.readme_contents_lemmatized)\n",
    "\n",
    "X = tfidfs\n",
    "y = df.language\n",
    "\n",
    "# split test and train into x and y test and train\n",
    "X_train, X_test, y_train, y_test = train_test_split(X, y, stratify=df.language, train_size = .8, random_state = 999)\n",
    "\n",
    "from sklearn.ensemble import RandomForestClassifier, AdaBoostClassifier, GradientBoostingClassifier\n",
    "rfc = RandomForestClassifier(random_state=123, min_samples_split=10,\\\n",
    "     n_estimators=100,n_jobs=-1, max_features=\"auto\")\n",
    "clf = AdaBoostClassifier(n_estimators=1,learning_rate=1,algorithm='SAMME',\\\n",
    "     random_state=123, base_estimator=rfc)\n",
    "clf.fit(X_train, y_train)\n",
    "clf.score(X_test, y_test)"
   ]
  },
  {
   "cell_type": "code",
   "execution_count": 43,
   "metadata": {},
   "outputs": [
    {
     "name": "stdout",
     "output_type": "stream",
     "text": [
      "Accuracy of random forest classifier on training set: 0.23\n",
      "Accuracy of random forest classifier on test set: 0.17\n"
     ]
    }
   ],
   "source": [
    "# Try model using unique to language words\n",
    "\n",
    "# vectorize stemmed readme contents and assign X any y veriables\n",
    "tfidf = TfidfVectorizer()\n",
    "tfidfs = tfidf.fit_transform(df.readme_contents_lemmatized)\n",
    "\n",
    "X = tfidfs\n",
    "y = df.language\n",
    "\n",
    "# split test and train into x and y test and train\n",
    "X_train, X_test, y_train, y_test = train_test_split(X, y, stratify=df.language, train_size = .8, random_state = 999)\n",
    "\n",
    "# Create Random Forest object and fit it to the data\n",
    "rf = RandomForestClassifier(bootstrap=True, \n",
    "                            class_weight=None, \n",
    "                            criterion='gini',\n",
    "                            min_samples_leaf=3,\n",
    "                            n_estimators=100,\n",
    "                            max_depth=3, \n",
    "                            random_state=123)\n",
    "        \n",
    "rf.fit(X_train, y_train)\n",
    "\n",
    "# print accuracy for train and test data sets\n",
    "print('Accuracy of random forest classifier on training set: {:.2f}'\n",
    "      .format(rf.score(X_train, y_train)))\n",
    "print('Accuracy of random forest classifier on test set: {:.2f}'\n",
    "      .format(rf.score(X_test, y_test)))"
   ]
  },
  {
   "cell_type": "markdown",
   "metadata": {},
   "source": [
    "# Take Aways"
   ]
  },
  {
   "cell_type": "markdown",
   "metadata": {},
   "source": [
    "To develop a more accurate model we would need to develop a much deeper understanding of how the vectorized data is processed. The result the go-words test went against our intuition. We believed that removing all of the words that were associated with more than one language would leave each of the readme contents with only words that were unique to the programming language of the readme, and that this would mean be an easy sort for the model. In reality the use of go-words seems to negatively affect the accuracy of the model.  This may be caused by go-words not increasing the predictive ability of the model and having the side effect of sometimes blanking entire readmes, if no matching words were found. It was thought that the upside of focusing the model on words unique to one language would net a better result, though it apprears this hypothesis was incorrect. "
   ]
  },
  {
   "cell_type": "code",
   "execution_count": null,
   "metadata": {},
   "outputs": [],
   "source": []
  }
 ],
 "metadata": {
  "kernelspec": {
   "display_name": "Python 3",
   "language": "python",
   "name": "python3"
  },
  "language_info": {
   "codemirror_mode": {
    "name": "ipython",
    "version": 3
   },
   "file_extension": ".py",
   "mimetype": "text/x-python",
   "name": "python",
   "nbconvert_exporter": "python",
   "pygments_lexer": "ipython3",
   "version": "3.7.4"
  }
 },
 "nbformat": 4,
 "nbformat_minor": 2
}
