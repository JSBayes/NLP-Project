{
 "cells": [
  {
   "cell_type": "code",
   "execution_count": 1,
   "metadata": {},
   "outputs": [],
   "source": [
    "from requests import get\n",
    "from bs4 import BeautifulSoup\n",
    "import os\n",
    "import pandas as pd\n",
    "\n",
    "import matplotlib.pyplot as plt\n",
    "\n",
    "import unicodedata\n",
    "import re\n",
    "import json\n",
    "\n",
    "import nltk\n",
    "from nltk.tokenize.toktok import ToktokTokenizer\n",
    "from nltk.corpus import stopwords\n",
    "\n",
    "from sklearn.model_selection import train_test_split\n",
    "from sklearn.linear_model import LogisticRegression\n",
    "from sklearn.metrics import classification_report, accuracy_score\n",
    "from sklearn.feature_extraction.text import TfidfVectorizer\n",
    "\n",
    "\n",
    "from sklearn.tree import DecisionTreeClassifier\n",
    "from sklearn.tree import export_graphviz\n",
    "from sklearn.metrics import confusion_matrix\n",
    "\n",
    "import prepare_readme as p"
   ]
  },
  {
   "cell_type": "code",
   "execution_count": 2,
   "metadata": {},
   "outputs": [],
   "source": [
    "with open('data.json', 'r') as f:\n",
    "    datastore = json.load(f)\n",
    "    \n",
    "with open('data1.json', 'r') as f:\n",
    "    datastore1 = json.load(f)"
   ]
  },
  {
   "cell_type": "code",
   "execution_count": 3,
   "metadata": {},
   "outputs": [],
   "source": [
    "df = pd.DataFrame(datastore)\n",
    "df1 = pd.DataFrame(datastore1)"
   ]
  },
  {
   "cell_type": "code",
   "execution_count": null,
   "metadata": {},
   "outputs": [],
   "source": []
  },
  {
   "cell_type": "code",
   "execution_count": 4,
   "metadata": {},
   "outputs": [],
   "source": [
    "df = p.prep_readme()"
   ]
  },
  {
   "cell_type": "code",
   "execution_count": 5,
   "metadata": {},
   "outputs": [
    {
     "data": {
      "text/plain": [
       "C++           20\n",
       "HTML          20\n",
       "Python        15\n",
       "CSS           10\n",
       "C             10\n",
       "Java          10\n",
       "Shell         10\n",
       "JavaScript    10\n",
       "Name: language, dtype: int64"
      ]
     },
     "execution_count": 5,
     "metadata": {},
     "output_type": "execute_result"
    }
   ],
   "source": [
    "df.language.value_counts(dropna=False)"
   ]
  },
  {
   "cell_type": "code",
   "execution_count": 6,
   "metadata": {},
   "outputs": [],
   "source": [
    "df = df.dropna()"
   ]
  },
  {
   "cell_type": "code",
   "execution_count": 7,
   "metadata": {},
   "outputs": [],
   "source": [
    "df = df[df.language!='Jupyter Notebook']"
   ]
  },
  {
   "cell_type": "code",
   "execution_count": 8,
   "metadata": {},
   "outputs": [
    {
     "data": {
      "text/html": [
       "<div>\n",
       "<style scoped>\n",
       "    .dataframe tbody tr th:only-of-type {\n",
       "        vertical-align: middle;\n",
       "    }\n",
       "\n",
       "    .dataframe tbody tr th {\n",
       "        vertical-align: top;\n",
       "    }\n",
       "\n",
       "    .dataframe thead th {\n",
       "        text-align: right;\n",
       "    }\n",
       "</style>\n",
       "<table border=\"1\" class=\"dataframe\">\n",
       "  <thead>\n",
       "    <tr style=\"text-align: right;\">\n",
       "      <th></th>\n",
       "      <th>language</th>\n",
       "      <th>readme_contents</th>\n",
       "      <th>repo</th>\n",
       "      <th>readme_contents_stemmed</th>\n",
       "      <th>readme_contents_lemmatized</th>\n",
       "    </tr>\n",
       "  </thead>\n",
       "  <tbody>\n",
       "    <tr>\n",
       "      <th>0</th>\n",
       "      <td>CSS</td>\n",
       "      <td># Welcome\\n\\n&gt; **Warning**: this book is **not...</td>\n",
       "      <td>/nakov/Practical-Cryptography-for-Developers-Book</td>\n",
       "      <td>welcom warn book finish still work chapter com...</td>\n",
       "      <td>welcome warning book finished still working ch...</td>\n",
       "    </tr>\n",
       "    <tr>\n",
       "      <th>1</th>\n",
       "      <td>Java</td>\n",
       "      <td># Monorepo of Deeplearning4j\\n\\nWelcome to the...</td>\n",
       "      <td>/eclipse/deeplearning4j</td>\n",
       "      <td>monorepo deeplearn j welcom new monorepo deepl...</td>\n",
       "      <td>monorepo deeplearning j welcome new monorepo d...</td>\n",
       "    </tr>\n",
       "    <tr>\n",
       "      <th>2</th>\n",
       "      <td>Java</td>\n",
       "      <td># H2O\\n\\n[![Join the chat at https://gitter.im...</td>\n",
       "      <td>/h2oai/h2o-3</td>\n",
       "      <td>h join chat http gitter im h oai h http badg g...</td>\n",
       "      <td>h join chat http gitter im h oai h http badge ...</td>\n",
       "    </tr>\n",
       "    <tr>\n",
       "      <th>3</th>\n",
       "      <td>C++</td>\n",
       "      <td>&lt;div align=\"center\"&gt;\\n  &lt;img src=\"https://www....</td>\n",
       "      <td>/tensorflow/tensorflow</td>\n",
       "      <td>div align center img src http www tensorflow o...</td>\n",
       "      <td>div align center img src http www tensorflow o...</td>\n",
       "    </tr>\n",
       "    <tr>\n",
       "      <th>4</th>\n",
       "      <td>C++</td>\n",
       "      <td>gRPC - An RPC library and framework\\n=========...</td>\n",
       "      <td>/grpc/grpc</td>\n",
       "      <td>grpc rpc librari framework grpc modern open so...</td>\n",
       "      <td>grpc rpc library framework grpc modern open so...</td>\n",
       "    </tr>\n",
       "  </tbody>\n",
       "</table>\n",
       "</div>"
      ],
      "text/plain": [
       "  language                                    readme_contents  \\\n",
       "0      CSS  # Welcome\\n\\n> **Warning**: this book is **not...   \n",
       "1     Java  # Monorepo of Deeplearning4j\\n\\nWelcome to the...   \n",
       "2     Java  # H2O\\n\\n[![Join the chat at https://gitter.im...   \n",
       "3      C++  <div align=\"center\">\\n  <img src=\"https://www....   \n",
       "4      C++  gRPC - An RPC library and framework\\n=========...   \n",
       "\n",
       "                                                repo  \\\n",
       "0  /nakov/Practical-Cryptography-for-Developers-Book   \n",
       "1                            /eclipse/deeplearning4j   \n",
       "2                                       /h2oai/h2o-3   \n",
       "3                             /tensorflow/tensorflow   \n",
       "4                                         /grpc/grpc   \n",
       "\n",
       "                             readme_contents_stemmed  \\\n",
       "0  welcom warn book finish still work chapter com...   \n",
       "1  monorepo deeplearn j welcom new monorepo deepl...   \n",
       "2  h join chat http gitter im h oai h http badg g...   \n",
       "3  div align center img src http www tensorflow o...   \n",
       "4  grpc rpc librari framework grpc modern open so...   \n",
       "\n",
       "                          readme_contents_lemmatized  \n",
       "0  welcome warning book finished still working ch...  \n",
       "1  monorepo deeplearning j welcome new monorepo d...  \n",
       "2  h join chat http gitter im h oai h http badge ...  \n",
       "3  div align center img src http www tensorflow o...  \n",
       "4  grpc rpc library framework grpc modern open so...  "
      ]
     },
     "execution_count": 8,
     "metadata": {},
     "output_type": "execute_result"
    }
   ],
   "source": [
    "df.head()"
   ]
  },
  {
   "cell_type": "code",
   "execution_count": 9,
   "metadata": {},
   "outputs": [
    {
     "data": {
      "text/plain": [
       "24     note creat releas bumpvers major minor patch g...\n",
       "25     python goos articl extractor build statu intro...\n",
       "26     successor googlescrap se scraper http github c...\n",
       "47     zenbot logo asset logo png follow path look ma...\n",
       "49     repositori contain sourc code full stack pytho...\n",
       "53     devop guid http github com tikam devop guid bl...\n",
       "55     content repo host thehighlight tv stajbakhsh p...\n",
       "56     ansistrano build statu http travi ci com ansis...\n",
       "61     data scienc command line build statu http trav...\n",
       "69     python show code python version pull request u...\n",
       "79     merkletre merkl tree implement c document full...\n",
       "80     hyper upload server c gb windowslinux pc pc c ...\n",
       "81     c languag specif version microsoft yet releas ...\n",
       "82     h cgic ansi c librari cgi program h h href htt...\n",
       "84     fundament ts draft c librari fundament technic...\n",
       "88     introduct repositori contain variou c implemen...\n",
       "92     cocoaosc object c librari send receiv open sou...\n",
       "94                                           error readm\n",
       "98     spriterplusplu c implement spriter anim sprite...\n",
       "100    usdk uniti dsdk androidiossdkn c unitysdk usdk...\n",
       "Name: readme_contents_stemmed, dtype: object"
      ]
     },
     "execution_count": 9,
     "metadata": {},
     "output_type": "execute_result"
    }
   ],
   "source": [
    "df.readme_contents_stemmed.apply(p.tokenize)[df.language=='HTML']"
   ]
  },
  {
   "cell_type": "code",
   "execution_count": 10,
   "metadata": {},
   "outputs": [],
   "source": [
    "def tokenize(article):\n",
    "    '''\n",
    "    tokenizes words in a string\n",
    "    '''\n",
    "\n",
    "    # create token object\n",
    "    tokenizer = nltk.tokenize.ToktokTokenizer()\n",
    "\n",
    "    # use object to tokenize string\n",
    "    article = tokenizer.tokenize(article, return_str=True)\n",
    "    \n",
    "    return article"
   ]
  },
  {
   "cell_type": "code",
   "execution_count": null,
   "metadata": {},
   "outputs": [],
   "source": []
  },
  {
   "cell_type": "markdown",
   "metadata": {},
   "source": [
    "#new svc or decition tree"
   ]
  },
  {
   "cell_type": "code",
   "execution_count": 11,
   "metadata": {},
   "outputs": [],
   "source": [
    "# restrict df to target and predicted veriables\n",
    "df = df[['readme_contents_stemmed','language']]"
   ]
  },
  {
   "cell_type": "code",
   "execution_count": 12,
   "metadata": {},
   "outputs": [],
   "source": [
    "# vectorize stemmed readme contents and assign X any y veriables\n",
    "tfidf = TfidfVectorizer()\n",
    "X = tfidf.fit_transform(df.readme_contents_stemmed)\n",
    "y = df.language"
   ]
  },
  {
   "cell_type": "code",
   "execution_count": 13,
   "metadata": {},
   "outputs": [],
   "source": [
    "# split data into test and train\n",
    "X_train, X_test, y_train, y_test = train_test_split(X, y, stratify=y,test_size=.2)"
   ]
  },
  {
   "cell_type": "code",
   "execution_count": 14,
   "metadata": {},
   "outputs": [
    {
     "data": {
      "text/plain": [
       "DecisionTreeClassifier(class_weight=None, criterion='entropy', max_depth=3,\n",
       "                       max_features=None, max_leaf_nodes=None,\n",
       "                       min_impurity_decrease=0.0, min_impurity_split=None,\n",
       "                       min_samples_leaf=1, min_samples_split=2,\n",
       "                       min_weight_fraction_leaf=0.0, presort=False,\n",
       "                       random_state=123, splitter='best')"
      ]
     },
     "execution_count": 14,
     "metadata": {},
     "output_type": "execute_result"
    }
   ],
   "source": [
    "# create classifier object and fit it to the data\n",
    "clf = DecisionTreeClassifier(criterion='entropy', max_depth=3, random_state=123)\n",
    "clf.fit(X_train, y_train)\n",
    "\n",
    "\n",
    "DecisionTreeClassifier(class_weight=None, criterion='entropy', max_depth=3,\n",
    "            max_features=None, max_leaf_nodes=None,\n",
    "            min_impurity_decrease=0.0, min_impurity_split=None,\n",
    "            min_samples_leaf=1, min_samples_split=2,\n",
    "            min_weight_fraction_leaf=0.0, presort=False, random_state=123,\n",
    "            splitter='best')"
   ]
  },
  {
   "cell_type": "code",
   "execution_count": null,
   "metadata": {},
   "outputs": [],
   "source": []
  },
  {
   "cell_type": "code",
   "execution_count": null,
   "metadata": {},
   "outputs": [],
   "source": []
  },
  {
   "cell_type": "code",
   "execution_count": null,
   "metadata": {},
   "outputs": [],
   "source": []
  },
  {
   "cell_type": "code",
   "execution_count": null,
   "metadata": {},
   "outputs": [],
   "source": []
  },
  {
   "cell_type": "code",
   "execution_count": null,
   "metadata": {},
   "outputs": [],
   "source": []
  },
  {
   "cell_type": "code",
   "execution_count": null,
   "metadata": {},
   "outputs": [],
   "source": []
  }
 ],
 "metadata": {
  "kernelspec": {
   "display_name": "Python 3",
   "language": "python",
   "name": "python3"
  },
  "language_info": {
   "codemirror_mode": {
    "name": "ipython",
    "version": 3
   },
   "file_extension": ".py",
   "mimetype": "text/x-python",
   "name": "python",
   "nbconvert_exporter": "python",
   "pygments_lexer": "ipython3",
   "version": "3.7.3"
  }
 },
 "nbformat": 4,
 "nbformat_minor": 2
}
